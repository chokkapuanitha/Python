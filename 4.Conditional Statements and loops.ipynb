{
 "cells": [
  {
   "cell_type": "code",
   "execution_count": 1,
   "id": "2166785a",
   "metadata": {},
   "outputs": [
    {
     "name": "stdout",
     "output_type": "stream",
     "text": [
      "b>a\n"
     ]
    }
   ],
   "source": [
    "#if elif else\n",
    "\n",
    "a=10\n",
    "b=20\n",
    "\n",
    "if a>b:\n",
    "    print(\"a>b\")\n",
    "elif(a==b):\n",
    "    print(\"a==b\")\n",
    "else:\n",
    "    print(\"b>a\")"
   ]
  },
  {
   "cell_type": "code",
   "execution_count": 3,
   "id": "18632528",
   "metadata": {},
   "outputs": [
    {
     "name": "stdout",
     "output_type": "stream",
     "text": [
      "5\n",
      "4\n",
      "3\n",
      "2\n",
      "1\n"
     ]
    }
   ],
   "source": [
    "#while loop\n",
    "\n",
    "i=5\n",
    "while(i>0):\n",
    "    print(i)\n",
    "    i-=1;"
   ]
  },
  {
   "cell_type": "code",
   "execution_count": 4,
   "id": "466aa321",
   "metadata": {},
   "outputs": [
    {
     "name": "stdout",
     "output_type": "stream",
     "text": [
      "5\n",
      "4\n"
     ]
    }
   ],
   "source": [
    "#while break\n",
    "\n",
    "i=5\n",
    "while(i>0):\n",
    "    if(i==3):\n",
    "        break\n",
    "    print(i)\n",
    "    i-=1;"
   ]
  },
  {
   "cell_type": "code",
   "execution_count": 8,
   "id": "96ac76ae",
   "metadata": {},
   "outputs": [
    {
     "name": "stdout",
     "output_type": "stream",
     "text": [
      "4\n",
      "2\n",
      "1\n",
      "0\n"
     ]
    }
   ],
   "source": [
    "#while continue\n",
    "\n",
    "i=5\n",
    "while(i>0):\n",
    "    i-=1;\n",
    "    if(i==3):\n",
    "      continue; \n",
    "    print(i)\n",
    "    "
   ]
  },
  {
   "cell_type": "code",
   "execution_count": 11,
   "id": "72603aa4",
   "metadata": {},
   "outputs": [
    {
     "name": "stdout",
     "output_type": "stream",
     "text": [
      "1\n",
      "2\n",
      "3\n",
      "4\n",
      "5\n",
      "6\n",
      "7\n",
      "8\n",
      "9\n"
     ]
    }
   ],
   "source": [
    "#for loop\n",
    "\n",
    "for x in range(1,10):\n",
    "    print(x)\n"
   ]
  },
  {
   "cell_type": "code",
   "execution_count": 12,
   "id": "46225f2a",
   "metadata": {},
   "outputs": [
    {
     "name": "stdout",
     "output_type": "stream",
     "text": [
      "1\n",
      "2\n",
      "3\n",
      "4\n"
     ]
    }
   ],
   "source": [
    "#for loop break    \n",
    "for x in range(1,10):\n",
    "    if(x==5):\n",
    "        break;\n",
    "    print(x)"
   ]
  },
  {
   "cell_type": "code",
   "execution_count": 14,
   "id": "e1063b46",
   "metadata": {},
   "outputs": [
    {
     "name": "stdout",
     "output_type": "stream",
     "text": [
      "1\n",
      "2\n",
      "3\n",
      "4\n",
      "6\n",
      "7\n",
      "8\n",
      "9\n"
     ]
    }
   ],
   "source": [
    "#for loop continue  \n",
    "for x in range(1,10):\n",
    "    if(x==5):\n",
    "        continue;\n",
    "    print(x)"
   ]
  }
 ],
 "metadata": {
  "kernelspec": {
   "display_name": "Python 3",
   "language": "python",
   "name": "python3"
  },
  "language_info": {
   "codemirror_mode": {
    "name": "ipython",
    "version": 3
   },
   "file_extension": ".py",
   "mimetype": "text/x-python",
   "name": "python",
   "nbconvert_exporter": "python",
   "pygments_lexer": "ipython3",
   "version": "3.8.8"
  }
 },
 "nbformat": 4,
 "nbformat_minor": 5
}
