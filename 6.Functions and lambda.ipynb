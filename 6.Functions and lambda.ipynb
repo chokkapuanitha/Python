{
 "cells": [
  {
   "cell_type": "code",
   "execution_count": 1,
   "id": "80007f56",
   "metadata": {},
   "outputs": [
    {
     "name": "stdout",
     "output_type": "stream",
     "text": [
      "30\n"
     ]
    }
   ],
   "source": [
    "#functions with no parameters\n",
    "\n",
    "def add():\n",
    "    return 10+20;\n",
    "\n",
    "print(add())"
   ]
  },
  {
   "cell_type": "code",
   "execution_count": 3,
   "id": "9a32534a",
   "metadata": {},
   "outputs": [
    {
     "name": "stdout",
     "output_type": "stream",
     "text": [
      "6\n"
     ]
    }
   ],
   "source": [
    "#function with two parameters\n",
    "def add(x,y):\n",
    "    return(x*y)\n",
    "\n",
    "print(add(2,3))"
   ]
  },
  {
   "cell_type": "code",
   "execution_count": 9,
   "id": "15b7e951",
   "metadata": {},
   "outputs": [
    {
     "name": "stdout",
     "output_type": "stream",
     "text": [
      "6\n"
     ]
    }
   ],
   "source": [
    "#function with unknown parameters\n",
    "def add(*x):\n",
    "    l1=list(x)\n",
    "    return (sum(l1))\n",
    "\n",
    "print(add(1,2,3))"
   ]
  },
  {
   "cell_type": "code",
   "execution_count": 17,
   "id": "d7d70fe7",
   "metadata": {},
   "outputs": [
    {
     "name": "stdout",
     "output_type": "stream",
     "text": [
      "<class 'dict'>\n",
      "{'tab': 'samsung', 'owner': 'samsung'}\n",
      "None\n"
     ]
    }
   ],
   "source": [
    "#Function with arbitary parameters(dictionaries)\n",
    "\n",
    "def dict(**val):\n",
    "    print(type(val))\n",
    "    print(val)\n",
    "    \n",
    "print(dict(tab=\"samsung\",owner=\"samsung\"))"
   ]
  }
 ],
 "metadata": {
  "kernelspec": {
   "display_name": "Python 3",
   "language": "python",
   "name": "python3"
  },
  "language_info": {
   "codemirror_mode": {
    "name": "ipython",
    "version": 3
   },
   "file_extension": ".py",
   "mimetype": "text/x-python",
   "name": "python",
   "nbconvert_exporter": "python",
   "pygments_lexer": "ipython3",
   "version": "3.8.8"
  }
 },
 "nbformat": 4,
 "nbformat_minor": 5
}
