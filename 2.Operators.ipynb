{
 "cells": [
  {
   "cell_type": "markdown",
   "id": "f4b68fcd",
   "metadata": {},
   "source": [
    "Python Operators in general are used to perform operations on values and variables."
   ]
  },
  {
   "cell_type": "markdown",
   "id": "eeb7e0c8",
   "metadata": {},
   "source": [
    "Arithmetic Operators\n",
    "\n",
    "Operator\tDescription\t                                                                   Syntax\n",
    "+\t        Addition: adds two operands\t                                                   x + y\n",
    "–\t        Subtraction: subtracts two operands\t                                           x – y\n",
    "*\t        Multiplication: multiplies two operands\t                                       x * y\n",
    "/\t        Division (float): divides the first operand by the second\t                   x / y\n",
    "//\t        Division (floor): divides the first operand by the second\t                   x // y\n",
    "%\t        Modulus: returns the remainder when the first operand is divided by the second x % y\n",
    "**\t        Power: Returns first raised to power second\t                                   x ** y"
   ]
  },
  {
   "cell_type": "code",
   "execution_count": 1,
   "id": "bee4c50d",
   "metadata": {},
   "outputs": [
    {
     "name": "stdout",
     "output_type": "stream",
     "text": [
      "9\n",
      "1\n",
      "20\n",
      "1.25\n",
      "1\n",
      "1\n",
      "625\n"
     ]
    }
   ],
   "source": [
    "x=5\n",
    "y=4\n",
    "\n",
    "print(x+y)\n",
    "print(x-y)\n",
    "print(x*y)\n",
    "print(x/y)\n",
    "print(x//y)\n",
    "print(x%y)\n",
    "print(x**y)"
   ]
  },
  {
   "cell_type": "markdown",
   "id": "144ab56d",
   "metadata": {},
   "source": [
    "Comparison Operators\n",
    "\n",
    "Operator\tDescription\t                                                                            Syntax\n",
    ">\t        Greater than: True if the left operand is greater than the right\t                    x > y\n",
    "<\t        Less than: True if the left operand is less than the right\t                            x < y\n",
    "==\t        Equal to: True if both operands are equal\t                                            x == y\n",
    "!=\t        Not equal to – True if operands are not equal\t                                        x != y\n",
    ">=\t        Greater than or equal to True if the left operand is greater than or equal to the right\tx >= y\n",
    "<=\t        Less than or equal to True if the left operand is less than or equal to the right\t    x <= y"
   ]
  },
  {
   "cell_type": "code",
   "execution_count": 2,
   "id": "1414ec75",
   "metadata": {},
   "outputs": [
    {
     "name": "stdout",
     "output_type": "stream",
     "text": [
      "False\n",
      "True\n",
      "False\n",
      "True\n",
      "False\n",
      "True\n"
     ]
    }
   ],
   "source": [
    "x=10\n",
    "y=20\n",
    "\n",
    "print(x>y)\n",
    "print(x<y)\n",
    "print(x==y)\n",
    "print(x!=y)\n",
    "print(x>=y)\n",
    "print(x<=y)"
   ]
  },
  {
   "cell_type": "markdown",
   "id": "2cc33eb6",
   "metadata": {},
   "source": [
    "Logical Operators\n",
    "\n",
    "Operator\tDescription\t                                        Syntax\n",
    "and\t        Logical AND: True if both the operands are true\t    x and y\n",
    "or\t        Logical OR: True if either of the operands is true \tx or y\n",
    "not\t        Logical NOT: True if the operand is false \t        not x"
   ]
  },
  {
   "cell_type": "code",
   "execution_count": 6,
   "id": "c4449419",
   "metadata": {},
   "outputs": [
    {
     "name": "stdout",
     "output_type": "stream",
     "text": [
      "45\n",
      "19\n",
      "False\n"
     ]
    }
   ],
   "source": [
    "x=19\n",
    "y=45\n",
    "\n",
    "print(x and y)\n",
    "print(x or y)\n",
    "print(not x)"
   ]
  },
  {
   "cell_type": "markdown",
   "id": "61472a0d",
   "metadata": {},
   "source": [
    "Assignment Operators \n",
    "\n",
    "Operator\tDescription\t                                                                            Syntax\n",
    "=\t        Assign value of right side of expression to left side operand \t                        x = y + z\n",
    "+=\t        Add AND: Add right-side operand with left side operand and then assign to left operand\ta+=b     a=a+b\n",
    "-=\t        Subtract AND: Subtract right operand from left operand and then assign to left operand\ta-=b     a=a-b"
   ]
  },
  {
   "cell_type": "code",
   "execution_count": 8,
   "id": "b6a22e06",
   "metadata": {},
   "outputs": [
    {
     "name": "stdout",
     "output_type": "stream",
     "text": [
      "10\n",
      "10\n",
      "10\n"
     ]
    }
   ],
   "source": [
    "x = 10\n",
    " \n",
    "y = a\n",
    "print(b)\n",
    " \n",
    "y += x\n",
    "print(b)\n",
    " \n",
    "y -= x\n",
    "print(b)"
   ]
  }
 ],
 "metadata": {},
 "nbformat": 4,
 "nbformat_minor": 5
}
