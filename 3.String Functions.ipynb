{
 "cells": [
  {
   "cell_type": "markdown",
   "id": "d98da3d6",
   "metadata": {},
   "source": [
    "Python string is a sequence of Unicode characters that is enclosed in the quotations marks."
   ]
  },
  {
   "cell_type": "code",
   "execution_count": 7,
   "id": "7c4c07b2",
   "metadata": {},
   "outputs": [
    {
     "name": "stdout",
     "output_type": "stream",
     "text": [
      "String functions tutorial\n",
      " Hi\n",
      "this is a sentence test\n"
     ]
    }
   ],
   "source": [
    "string = \"String functions tutorial\"\n",
    "sentence = \"\"\" Hi\n",
    "this is a sentence test\"\"\"\n",
    "print(string)\n",
    "print(sentence)"
   ]
  },
  {
   "cell_type": "code",
   "execution_count": 13,
   "id": "785a3281",
   "metadata": {},
   "outputs": [
    {
     "name": "stdout",
     "output_type": "stream",
     "text": [
      "string functions tutorial\n",
      "STRING FUNCTIONS TUTORIAL\n",
      "String Functions Tutorial\n",
      "String functions tutorial Hi\n",
      "this is a sentence test\n",
      "1\n",
      "6\n"
     ]
    }
   ],
   "source": [
    "print(string.lower())\n",
    "print(string.upper())\n",
    "print(string.title())\n",
    "\n",
    "print(string+sentence) #concat\n",
    "\n",
    "#The count() method returns the count or the number of times a particular value appears in a string.\n",
    "#str.count(value, start, end)\n",
    "print(string.count('fun'))\n",
    "\n",
    "#The find()method returns the lowest index of a particular substring in a string. If the substring is not found, -1 is returned.\n",
    "#str.find(value, start, end)\n",
    "print(sentence.find('is'))\n",
    "\n"
   ]
  },
  {
   "cell_type": "code",
   "execution_count": 28,
   "id": "6d1440ab",
   "metadata": {},
   "outputs": [
    {
     "name": "stdout",
     "output_type": "stream",
     "text": [
      "False\n",
      "True\n"
     ]
    }
   ],
   "source": [
    "\"\"\"startswith( ) and endswith( )\n",
    "\n",
    "The startswith() method returns True if the string starts with the specified value; otherwise, it returns False.\n",
    "The endswith() function, on the other hand, returns True if the string endswith the specified value, else it returns False.\n",
    "\n",
    "string.startswith(value, start, end)\n",
    "string.endsswith(value, start, end)\n",
    "\n",
    "\"\"\"\n",
    "\n",
    "string = \"String functions tutorial\"\n",
    "print(string.startswith(\"str\"))\n",
    "print(string.endswith(\"al\"))"
   ]
  },
  {
   "cell_type": "code",
   "execution_count": 29,
   "id": "8a36edbd",
   "metadata": {},
   "outputs": [
    {
     "name": "stdout",
     "output_type": "stream",
     "text": [
      "['Hi', 'this', 'is', 'a', 'sentence', 'test']\n"
     ]
    }
   ],
   "source": [
    "#The split() method returns a list of words in a string where default separator is any whitespace.\n",
    "#string.split(sep, maxsplit)\n",
    "\n",
    "print(sentence.split())"
   ]
  },
  {
   "cell_type": "code",
   "execution_count": 55,
   "id": "08c5966e",
   "metadata": {},
   "outputs": [
    {
     "name": "stdout",
     "output_type": "stream",
     "text": [
      "True\n"
     ]
    }
   ],
   "source": [
    "#String presence check\n",
    "print(\"str\" in string)\n"
   ]
  },
  {
   "cell_type": "markdown",
   "id": "5d387949",
   "metadata": {},
   "source": [
    "Slicing"
   ]
  },
  {
   "cell_type": "code",
   "execution_count": 62,
   "id": "3f5ea16c",
   "metadata": {},
   "outputs": [],
   "source": [
    "string = \"String slicing\""
   ]
  },
  {
   "cell_type": "raw",
   "id": "08dd5848",
   "metadata": {},
   "source": [
    "0\t1\t2\t3\t4\t5\t6\t7\t8\t9\t10\t11\t12\t13\n",
    "s\tt\tr\ti\tn\tg\t\ts\tl\ti\tc\ti\tn\tg\n",
    "\n",
    "-14\t-13\t-12\t-11\t-10\t-9\t-8\t-7\t-6\t-5\t-4\t-3\t-2\t-1\n",
    "s\t t\t r\t i\t n\t g\t\t s\t l\t i\t c\t i\t n\t g\n"
   ]
  },
  {
   "cell_type": "code",
   "execution_count": 69,
   "id": "850e3e74",
   "metadata": {},
   "outputs": [
    {
     "name": "stdout",
     "output_type": "stream",
     "text": [
      "tring slicing\n",
      "g sl\n",
      "String slic\n",
      "tring slicing\n",
      "g sl\n",
      "String slic\n"
     ]
    }
   ],
   "source": [
    "print(string[1:])\n",
    "print(string[5:9])\n",
    "print(string[:11])\n",
    "\n",
    "print(string[-13:])\n",
    "print(string[-9:-5])\n",
    "print(string[:-3])"
   ]
  }
 ],
 "metadata": {
  "kernelspec": {
   "display_name": "Python 3",
   "language": "python",
   "name": "python3"
  },
  "language_info": {
   "codemirror_mode": {
    "name": "ipython",
    "version": 3
   },
   "file_extension": ".py",
   "mimetype": "text/x-python",
   "name": "python",
   "nbconvert_exporter": "python",
   "pygments_lexer": "ipython3",
   "version": "3.8.8"
  }
 },
 "nbformat": 4,
 "nbformat_minor": 5
}
