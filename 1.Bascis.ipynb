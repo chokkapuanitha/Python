{
 "cells": [
  {
   "cell_type": "markdown",
   "id": "31e62b31",
   "metadata": {},
   "source": [
    "Python Programming Language\n",
    "\n",
    "https://www.geeksforgeeks.org/download-and-install-python-3-latest-version/"
   ]
  },
  {
   "cell_type": "code",
   "execution_count": 1,
   "id": "578bd263",
   "metadata": {},
   "outputs": [
    {
     "name": "stdout",
     "output_type": "stream",
     "text": [
      "Welcome to Python\n"
     ]
    }
   ],
   "source": [
    "print(\"Welcome to Python\")"
   ]
  },
  {
   "cell_type": "markdown",
   "id": "f757e0c6",
   "metadata": {},
   "source": [
    "Creating a Comment Comments starts with a #, and Python will ignore them:\n",
    "\n",
    "#This is a comment\n",
    "\n",
    "\"\"\" This is a comment written in more than just one line \"\"\""
   ]
  },
  {
   "cell_type": "markdown",
   "id": "9c63374a",
   "metadata": {},
   "source": [
    "Python Variables\n",
    "\n",
    "In Python, variables are created when you assign a value to it:\n",
    "\n",
    "Variable names are case-sensitive."
   ]
  },
  {
   "cell_type": "code",
   "execution_count": 2,
   "id": "c2192006",
   "metadata": {},
   "outputs": [
    {
     "name": "stdout",
     "output_type": "stream",
     "text": [
      "5 Sally 0 3 5 0 0\n"
     ]
    }
   ],
   "source": [
    "x=5;\n",
    "y='Sally'\n",
    "a,b,c=(0,3,5)\n",
    "z=n=0\n",
    "print(x,y,a,b,c,z,n)"
   ]
  },
  {
   "cell_type": "markdown",
   "id": "0973e304",
   "metadata": {},
   "source": [
    "Built-in Data Types\n",
    "In programming, data type is an important concept.\n",
    "\n",
    "Variables can store data of different types, and different types can do different things.\n",
    "\n",
    "Python has the following data types built-in by default, in these categories:\n",
    "\n",
    "Text Type      :\tstr\n",
    "Numeric Types  :\tint, float\n",
    "Sequence Types :\tlist, tuple\n",
    "Mapping Type   :\tdict\n",
    "Set Types      :\tset\n",
    "Boolean Type   :\tbool"
   ]
  },
  {
   "cell_type": "code",
   "execution_count": 3,
   "id": "5e9fd3ad",
   "metadata": {},
   "outputs": [
    {
     "name": "stdout",
     "output_type": "stream",
     "text": [
      "sally 10 5.4 [1, 2, 'apple', 4, 5.6] (1, 2, 3, 4, 5) {'name': ['Anitha', 'sally'], 'age': [25, 45]} {3.4, 1, 2, 3} True\n"
     ]
    }
   ],
   "source": [
    "Name = \"sally\"\n",
    "age = 10\n",
    "height = 5.4\n",
    "list1 = [1,2,\"apple\",4,5.6]\n",
    "tuple1=(1,2,3,4,5)\n",
    "dict1={\"name\": [\"Anitha\",\"sally\"] , \"age\" : [25,45]}\n",
    "set1 = {1,2,3,3.4}\n",
    "bool1=True\n",
    "\n",
    "print(Name,age,height,list1,tuple1,dict1,set1,bool1)"
   ]
  },
  {
   "cell_type": "markdown",
   "id": "cb7aac1f",
   "metadata": {},
   "source": [
    "Casting\n",
    "\n",
    "There can be two types of Type Casting in Python –\n",
    "\n",
    "Implicit Type Casting\n",
    "Explicit Type Casting"
   ]
  },
  {
   "cell_type": "code",
   "execution_count": 4,
   "id": "eef0ed39",
   "metadata": {},
   "outputs": [
    {
     "name": "stdout",
     "output_type": "stream",
     "text": [
      "<class 'str'>\n",
      "<class 'int'>\n",
      "<class 'float'>\n",
      "<class 'list'>\n",
      "<class 'tuple'>\n",
      "<class 'dict'>\n",
      "<class 'set'>\n",
      "<class 'bool'>\n"
     ]
    }
   ],
   "source": [
    "#Implicit Type Casting\n",
    "#Python converts data type into another data type automatically. In this process, users don’t have to involve in this process. \n",
    "\n",
    "print(type(Name))\n",
    "print(type(age))\n",
    "print(type(height))\n",
    "print(type(list1))\n",
    "print(type(tuple1))\n",
    "print(type(dict1))\n",
    "print(type(set1))\n",
    "print(type(bool1))"
   ]
  },
  {
   "cell_type": "code",
   "execution_count": 5,
   "id": "ee3c331d",
   "metadata": {},
   "outputs": [
    {
     "name": "stdout",
     "output_type": "stream",
     "text": [
      "<class 'float'>\n",
      "<class 'int'>\n",
      "<class 'str'>\n"
     ]
    }
   ],
   "source": [
    "\"\"\"Explicit Type Casting\n",
    "Python need user involvement to convert the variable data type into certain data type.\"\"\"\n",
    "\n",
    "age=float(age)\n",
    "print(type(age))\n",
    "\n",
    "height=int(height)\n",
    "print(type(height))\n",
    "\n",
    "age=str(age)\n",
    "print(type(age))"
   ]
  }
 ],
 "metadata": {
  "kernelspec": {
   "display_name": "Python 3",
   "language": "python",
   "name": "python3"
  },
  "language_info": {
   "codemirror_mode": {
    "name": "ipython",
    "version": 3
   },
   "file_extension": ".py",
   "mimetype": "text/x-python",
   "name": "python",
   "nbconvert_exporter": "python",
   "pygments_lexer": "ipython3",
   "version": "3.8.8"
  }
 },
 "nbformat": 4,
 "nbformat_minor": 5
}
