{
 "cells": [
  {
   "cell_type": "markdown",
   "id": "141cdf5c",
   "metadata": {},
   "source": [
    "List, Tuple, Set and Dictionary in Python"
   ]
  },
  {
   "cell_type": "raw",
   "id": "31e83058",
   "metadata": {},
   "source": [
    "LIST\n",
    "\n",
    "1) List is a non-homogeneous data structure which stores the elements in single row and multiple rows and columns\n",
    "2) List can be represented by [ ]\n",
    "3) List allows duplicate elements\n",
    "4) List is mutable i.e we can make any changes in list.\n",
    "5) List is ordered\n",
    "\n",
    "TUPLE\n",
    "1) Tuple is also a non-homogeneous data structure which stores single row and multiple rows and columns\n",
    "2) Tuple can be represented by  ( )\n",
    "3) Tuple allows duplicate elements\n",
    "4) Tuple  is immutable i.e we can not make any changes in tuple\n",
    "5) Tuple is ordered\n",
    "\n",
    "SET\n",
    "1) Set data structure is also non-homogeneous data structure but stores in single row\n",
    "2) Set can be represented by { }\n",
    "3) Set will not allow duplicate elements\n",
    "4) Set is mutable i.e we can make any changes in set. But elements are not duplicated.\n",
    "5) Set is unordered\n",
    "\n",
    "DICT\n",
    "1) Dictionary is also a non-homogeneous data structure which stores key value pairs\n",
    "2) Dictionary  can be represented by { }\n",
    "3) dictionary doesn’t allow duplicate keys.\n",
    "4) Dictionary is mutable. But Keys are not duplicated\n",
    "5) Dictionary is ordered"
   ]
  },
  {
   "cell_type": "code",
   "execution_count": 33,
   "id": "7ed5cdad",
   "metadata": {},
   "outputs": [
    {
     "name": "stdout",
     "output_type": "stream",
     "text": [
      "created list [1, 'hello', 'a', 13.5, 5]\n",
      "append/add elements list  [1, 2, 3, [4, 5, 6]]\n",
      "extend list  [1, 2, 3, 4, 5, 6]\n",
      "addition of element at index [1, 'at 1', 2, 3, 4, 5, 6]\n",
      "remove last element 6\n",
      "remove index element 2\n",
      "[1, 'at 1', 3, 4, 5]\n",
      "1\n",
      "at 1\n",
      "3\n",
      "4\n",
      "5\n"
     ]
    }
   ],
   "source": [
    "#list creation\n",
    "\n",
    "l1=[1,\"hello\",'a',13.5,5]\n",
    "print(\"created list\" , l1)\n",
    "\n",
    "#list append/add elements\n",
    "l1=[1,2,3]\n",
    "l2=[4,5,6]\n",
    "l1.append(l2)\n",
    "print(\"append/add elements list \",l1)\n",
    "\n",
    "#list extend\n",
    "l1=[1,2,3]\n",
    "l2=[4,5,6]\n",
    "l1.extend(l2)\n",
    "print(\"extend list \",l1)\n",
    "\n",
    "#list add element at index\n",
    "l1.insert(1,'at 1')\n",
    "print(\"addition of element at index\",l1)\n",
    "\n",
    "#remove last element or at a index\n",
    "print(\"remove last element\",l1.pop())\n",
    "print(\"remove index element\",l1.pop(2))\n",
    "print(l1)\n",
    "\n",
    "#loop list\n",
    "for x in l1:\n",
    "    print(x)"
   ]
  },
  {
   "cell_type": "code",
   "execution_count": 39,
   "id": "2a93a87f",
   "metadata": {},
   "outputs": [
    {
     "name": "stdout",
     "output_type": "stream",
     "text": [
      "created tuple (1, 'hello', 'a', 13.5, 5)\n",
      "append/add elements tuple  (1, 'hello', 'a', 13.5, 5, 10)\n",
      "remove last element 10\n",
      "remove index element a\n",
      "(1, 'hello', 'a', 13.5, 5, 10)\n",
      "(1, 'hello', 13.5, 5)\n",
      "1\n",
      "hello\n",
      "13.5\n",
      "5\n"
     ]
    }
   ],
   "source": [
    "#Tuple creation\n",
    "\n",
    "t1=(1,\"hello\",'a',13.5,5)\n",
    "print(\"created tuple\" , t1)\n",
    "\n",
    "\n",
    "#tuple append/add elements\n",
    "l1=list(t1)\n",
    "l1.append(10)\n",
    "t1=tuple(l1)\n",
    "print(\"append/add elements tuple \",t1)\n",
    "\n",
    "#remove last element or at a index\n",
    "print(\"remove last element\",l1.pop())\n",
    "print(\"remove index element\",l1.pop(2))\n",
    "print(t1)\n",
    "t1=tuple(l1)\n",
    "print(t1)\n",
    "\n",
    "#loop list\n",
    "for x in t1:\n",
    "    print(x)"
   ]
  },
  {
   "cell_type": "code",
   "execution_count": 49,
   "id": "d0e8d543",
   "metadata": {},
   "outputs": [
    {
     "name": "stdout",
     "output_type": "stream",
     "text": [
      "created set {1, 2, 2.5, 'apple', 'b'}\n",
      "add elements to set {1, 2, 2.5, 11, 'apple', 'b'}\n",
      "remove elements to set {1, 2, 2.5, 'apple', 'b'}\n",
      "1\n",
      "2\n",
      "2.5\n",
      "apple\n",
      "b\n"
     ]
    }
   ],
   "source": [
    "#sets\n",
    "s1={1,2,\"apple\",2.5,'b'}\n",
    "print(\"created set\",s1)\n",
    "\n",
    "#add elements to set\n",
    "s1.add(11)\n",
    "print(\"add elements to set\",s1)\n",
    "\n",
    "#remove elements to set\n",
    "s1.remove(11)\n",
    "print(\"remove elements to set\",s1)\n",
    "\n",
    "#loop\n",
    "for x in s1:\n",
    "    print(x)"
   ]
  },
  {
   "cell_type": "code",
   "execution_count": 73,
   "id": "4d89d068",
   "metadata": {},
   "outputs": [
    {
     "name": "stdout",
     "output_type": "stream",
     "text": [
      "created dict {'name': ['anitha', 'ramya', 'pratiba'], 'age': [25, 35, 63]}\n",
      "adding values to dict {'name': ['anitha', 'ramya', 'pratiba', 'ravi'], 'age': [25, 35, 63]}\n",
      "adding elements to dict {'name': ['anitha', 'ramya', 'pratiba', 'ravi'], 'age': [25, 35, 63], 'height': '165cm'}\n",
      "removing elements to dict {'name': ['anitha', 'ramya', 'pratiba', 'ravi'], 'age': [25, 35, 63]}\n",
      "removing value to dict {'name': ['anitha', 'ramya', 'pratiba'], 'age': [25, 35, 63]}\n",
      "name\n",
      "age\n",
      "name\n",
      "age\n",
      "['anitha', 'ramya', 'pratiba']\n",
      "[25, 35, 63]\n",
      "name ['anitha', 'ramya', 'pratiba']\n",
      "age [25, 35, 63]\n"
     ]
    }
   ],
   "source": [
    "#dictionaries\n",
    "dict = {'name' : ['anitha','ramya','pratiba'],\n",
    "        'age'  : [25,35,63]} \n",
    "print(\"created dict\",dict)\n",
    "\n",
    "#adding elements to dict\n",
    "dict[\"name\"].append(\"ravi\")\n",
    "print(\"adding values to dict\",dict)\n",
    "\n",
    "dict.update({\"height\" : \"165cm\"})\n",
    "print(\"adding elements to dict\",dict)\n",
    "\n",
    "#removing elements from dict\n",
    "dict.pop(\"height\")\n",
    "print(\"removing elements to dict\",dict)\n",
    "\n",
    "dict[\"name\"].remove(\"ravi\")\n",
    "print(\"removing value to dict\",dict)\n",
    "\n",
    "#loop\n",
    "for x in dict:\n",
    "    print(x)\n",
    "\n",
    "for x in dict.keys():\n",
    "    print(x)\n",
    "    \n",
    "for x in dict.values():\n",
    "    print(x)\n",
    "\n",
    "for x, y in dict.items():\n",
    "    print(x,y)"
   ]
  }
 ],
 "metadata": {
  "kernelspec": {
   "display_name": "Python 3",
   "language": "python",
   "name": "python3"
  },
  "language_info": {
   "codemirror_mode": {
    "name": "ipython",
    "version": 3
   },
   "file_extension": ".py",
   "mimetype": "text/x-python",
   "name": "python",
   "nbconvert_exporter": "python",
   "pygments_lexer": "ipython3",
   "version": "3.8.8"
  }
 },
 "nbformat": 4,
 "nbformat_minor": 5
}
